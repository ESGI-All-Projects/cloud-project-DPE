{
 "cells": [
  {
   "cell_type": "markdown",
   "metadata": {
    "application/vnd.databricks.v1+cell": {
     "cellMetadata": {
      "byteLimit": 2048000,
      "rowLimit": 10000
     },
     "inputWidgets": {},
     "nuid": "6126f7b1-d6f5-4e62-81cb-497cfcbe80fa",
     "showTitle": false,
     "title": ""
    }
   },
   "source": [
    "# Librairies"
   ]
  },
  {
   "cell_type": "code",
   "execution_count": 0,
   "metadata": {
    "application/vnd.databricks.v1+cell": {
     "cellMetadata": {
      "byteLimit": 2048000,
      "rowLimit": 10000
     },
     "inputWidgets": {},
     "nuid": "5228b79e-df97-448a-996d-2b132296fbdf",
     "showTitle": false,
     "title": ""
    }
   },
   "outputs": [],
   "source": [
    "import pandas as pd\n",
    "import numpy as np\n",
    "from sklearn.model_selection import train_test_split\n",
    "from sklearn.metrics import accuracy_score, classification_report\n",
    "import joblib \n",
    "import xgboost as xgb"
   ]
  },
  {
   "cell_type": "markdown",
   "metadata": {
    "application/vnd.databricks.v1+cell": {
     "cellMetadata": {
      "byteLimit": 2048000,
      "rowLimit": 10000
     },
     "inputWidgets": {},
     "nuid": "d5a45b2b-6575-4c1f-ab4f-f83056cd1e14",
     "showTitle": false,
     "title": ""
    }
   },
   "source": [
    "# I. Importing Data and Cleaning Outliers"
   ]
  },
  {
   "cell_type": "code",
   "execution_count": 0,
   "metadata": {
    "application/vnd.databricks.v1+cell": {
     "cellMetadata": {
      "byteLimit": 2048000,
      "rowLimit": 10000
     },
     "inputWidgets": {},
     "nuid": "99d74584-0b48-411c-81a7-f7b34a9cd135",
     "showTitle": false,
     "title": ""
    }
   },
   "outputs": [],
   "source": [
    "train_data = spark.read.csv(\"/mnt/data/train.csv\", header=True, inferSchema=True)\n",
    "test_data = spark.read.csv(\"/mnt/data/test.csv\", header=True, inferSchema=True)\n",
    "val_data = spark.read.csv(\"/mnt/data/val.csv\", header=True, inferSchema=True)\n",
    "\n",
    "# Combining train and test datasets\n",
    "# We combine the two datasets to address the undersampling of label 'A'. The union operation merges the rows of both datasets.\n",
    "data = train_data.union(test_data)"
   ]
  },
  {
   "cell_type": "code",
   "execution_count": 0,
   "metadata": {
    "application/vnd.databricks.v1+cell": {
     "cellMetadata": {
      "byteLimit": 2048000,
      "rowLimit": 10000
     },
     "inputWidgets": {},
     "nuid": "6b0bff1c-847b-456e-b2f4-409eb4c1b732",
     "showTitle": false,
     "title": ""
    }
   },
   "outputs": [],
   "source": [
    "data = data.toPandas()\n",
    "\n",
    "# On enlève valeurs aberrantes\n",
    "data = data[data[\"Surface_habitable_logement\"]<=100000]\n",
    "data = data[data['Conso_5_usages/m²_é_finale']<=100000]\n",
    "data = data[data['Hauteur_sous-plafond'] < 10]\n",
    "\n",
    "display(data)"
   ]
  },
  {
   "cell_type": "markdown",
   "metadata": {
    "application/vnd.databricks.v1+cell": {
     "cellMetadata": {
      "byteLimit": 2048000,
      "rowLimit": 10000
     },
     "inputWidgets": {},
     "nuid": "0a9686a2-fb11-449d-9e1a-9ca7e02ac819",
     "showTitle": false,
     "title": ""
    }
   },
   "source": [
    "# II. Data Processing"
   ]
  },
  {
   "cell_type": "code",
   "execution_count": 0,
   "metadata": {
    "application/vnd.databricks.v1+cell": {
     "cellMetadata": {
      "byteLimit": 2048000,
      "rowLimit": 10000
     },
     "inputWidgets": {},
     "nuid": "6de020a0-e006-4422-8c88-d824c14a603f",
     "showTitle": false,
     "title": ""
    }
   },
   "outputs": [],
   "source": [
    "numerical_data = data.select_dtypes(include=['int64', 'float64'])\n",
    "categorical_data = data.select_dtypes(include=['object', 'category'])\n"
   ]
  },
  {
   "cell_type": "code",
   "execution_count": 0,
   "metadata": {
    "application/vnd.databricks.v1+cell": {
     "cellMetadata": {
      "byteLimit": 2048000,
      "rowLimit": 10000
     },
     "inputWidgets": {},
     "nuid": "21abb814-7c9f-4208-9355-884e09c356ab",
     "showTitle": false,
     "title": ""
    }
   },
   "outputs": [],
   "source": [
    "# Count NA values\n",
    "na_percentage = numerical_data.isna().mean().round(4)*100\n",
    "\n",
    "print(na_percentage.sort_values())"
   ]
  },
  {
   "cell_type": "code",
   "execution_count": 0,
   "metadata": {
    "application/vnd.databricks.v1+cell": {
     "cellMetadata": {
      "byteLimit": 2048000,
      "rowLimit": 10000
     },
     "inputWidgets": {},
     "nuid": "3676a4c7-1ee3-4f1a-9c73-a5a911e86bba",
     "showTitle": false,
     "title": ""
    }
   },
   "outputs": [],
   "source": [
    "cols_to_drop = na_percentage[na_percentage>10].index\n",
    "\n",
    "data = data.drop(cols_to_drop, axis=1)\n",
    "numerical_data = numerical_data.drop(cols_to_drop, axis=1)\n",
    "\n",
    "data = data.drop([\"Code_postal_(BAN)\",\"Conso_5_usages_é_finale\",\"Emission_GES_éclairage\"], axis=1)\n",
    "numerical_data = numerical_data.drop([\"Code_postal_(BAN)\",\"Conso_5_usages_é_finale\",\"Emission_GES_éclairage\"], axis=1)\n",
    "\n",
    "for col in numerical_data :\n",
    "    data[col] = data[col].fillna(data[col].mean())"
   ]
  },
  {
   "cell_type": "code",
   "execution_count": 0,
   "metadata": {
    "application/vnd.databricks.v1+cell": {
     "cellMetadata": {
      "byteLimit": 2048000,
      "rowLimit": 10000
     },
     "inputWidgets": {},
     "nuid": "44f998a4-942a-4bbe-8e23-1282d0915290",
     "showTitle": false,
     "title": ""
    }
   },
   "outputs": [],
   "source": [
    "# Count NA values\n",
    "na_percentage_categorical = categorical_data.isna().mean().round(4)*100\n",
    "print(na_percentage_categorical.sort_values())"
   ]
  },
  {
   "cell_type": "code",
   "execution_count": 0,
   "metadata": {
    "application/vnd.databricks.v1+cell": {
     "cellMetadata": {
      "byteLimit": 2048000,
      "rowLimit": 10000
     },
     "inputWidgets": {},
     "nuid": "5b1fb53d-5051-45fe-8585-17117cc3636b",
     "showTitle": false,
     "title": ""
    }
   },
   "outputs": [],
   "source": [
    "cols_to_drop_cat = na_percentage_categorical[na_percentage_categorical>10].index\n",
    "data = data.drop(cols_to_drop_cat, axis=1)\n",
    "categorical_data = categorical_data.drop(cols_to_drop_cat, axis=1)\n",
    "\n",
    "data = data.drop([\"N°DPE\",\"Code_INSEE_(BAN)\",\"Qualité_isolation_plancher_bas\",\"Nom__commune_(Brut)\"], axis=1)\n",
    "categorical_data = categorical_data.drop([\"N°DPE\",\"Code_INSEE_(BAN)\",\"Qualité_isolation_plancher_bas\",\"Nom__commune_(Brut)\"], axis=1)\n",
    "\n",
    "for col in categorical_data:\n",
    "    data[col] = data[col].fillna(0)"
   ]
  },
  {
   "cell_type": "code",
   "execution_count": 0,
   "metadata": {
    "application/vnd.databricks.v1+cell": {
     "cellMetadata": {
      "byteLimit": 2048000,
      "rowLimit": 10000
     },
     "inputWidgets": {},
     "nuid": "4d09d75e-860d-4fb9-b497-dd42c0e61522",
     "showTitle": false,
     "title": ""
    }
   },
   "outputs": [],
   "source": [
    "print(\"Colonnes des variables numériques:\")\n",
    "for col in numerical_data.columns:\n",
    "    print(col)\n",
    "    \n",
    "print(\"\\n\")\n",
    "\n",
    "print(\"Colonnes des variables catégorielles:\")\n",
    "for col in categorical_data.columns:\n",
    "    print(col)"
   ]
  },
  {
   "cell_type": "code",
   "execution_count": 0,
   "metadata": {
    "application/vnd.databricks.v1+cell": {
     "cellMetadata": {
      "byteLimit": 2048000,
      "rowLimit": 10000
     },
     "inputWidgets": {},
     "nuid": "a87afe43-c534-45c4-a0cf-9ba82f72d4fb",
     "showTitle": false,
     "title": ""
    }
   },
   "outputs": [],
   "source": [
    "data = data.drop(['_c0','Code_postal_(brut)'], axis=1)\n",
    "data.dtypes"
   ]
  },
  {
   "cell_type": "code",
   "execution_count": 0,
   "metadata": {
    "application/vnd.databricks.v1+cell": {
     "cellMetadata": {
      "byteLimit": 2048000,
      "rowLimit": 10000
     },
     "inputWidgets": {},
     "nuid": "9d1dbcfc-026e-436d-89f7-c8c331d1f627",
     "showTitle": false,
     "title": ""
    }
   },
   "outputs": [],
   "source": [
    "import matplotlib.pyplot as plt\n",
    "import seaborn as sns"
   ]
  },
  {
   "cell_type": "markdown",
   "metadata": {
    "application/vnd.databricks.v1+cell": {
     "cellMetadata": {
      "byteLimit": 2048000,
      "rowLimit": 10000
     },
     "inputWidgets": {},
     "nuid": "6c0fc3ed-21f8-4223-974e-0ac9a3ae7a80",
     "showTitle": false,
     "title": ""
    }
   },
   "source": [
    "# III. Model XGBoost"
   ]
  },
  {
   "cell_type": "code",
   "execution_count": 0,
   "metadata": {
    "application/vnd.databricks.v1+cell": {
     "cellMetadata": {
      "byteLimit": 2048000,
      "rowLimit": 10000
     },
     "inputWidgets": {},
     "nuid": "e3b6fb04-2352-4879-b121-bbab7f37b639",
     "showTitle": false,
     "title": ""
    }
   },
   "outputs": [],
   "source": [
    "data.columns"
   ]
  },
  {
   "cell_type": "code",
   "execution_count": 0,
   "metadata": {
    "application/vnd.databricks.v1+cell": {
     "cellMetadata": {
      "byteLimit": 2048000,
      "rowLimit": 10000
     },
     "inputWidgets": {},
     "nuid": "afc5ade6-00fc-473d-9de4-9e20830b322d",
     "showTitle": false,
     "title": ""
    }
   },
   "outputs": [],
   "source": [
    "# Variables cibles et autres caractéristiques\n",
    "y = data['Etiquette_DPE'].astype(\"category\").cat.codes    \n",
    "X = data.drop(['Etiquette_DPE'], axis=1)\n",
    "\n",
    "# Encode les variables pour le modèle\n",
    "for column in X.columns:\n",
    "    X[column] = X[column].astype(\"category\").cat.codes\n",
    "\n",
    "\n",
    "print(\" valeur de X :\", X.columns)"
   ]
  },
  {
   "cell_type": "code",
   "execution_count": 0,
   "metadata": {
    "application/vnd.databricks.v1+cell": {
     "cellMetadata": {
      "byteLimit": 2048000,
      "rowLimit": 10000
     },
     "inputWidgets": {},
     "nuid": "8924c9d0-6e19-4439-acda-9d6ba5d9866d",
     "showTitle": false,
     "title": ""
    }
   },
   "outputs": [],
   "source": [
    "display(y)"
   ]
  },
  {
   "cell_type": "code",
   "execution_count": 0,
   "metadata": {
    "application/vnd.databricks.v1+cell": {
     "cellMetadata": {
      "byteLimit": 2048000,
      "rowLimit": 10000
     },
     "inputWidgets": {},
     "nuid": "8ce11ae2-3ce7-485c-9f67-e72020dfcbc8",
     "showTitle": false,
     "title": ""
    }
   },
   "outputs": [],
   "source": [
    "# Pensé à look si le  'Etiquette_DPE' est dans les colonnes\n",
    "if 'Etiquette_DPE' in data.columns:\n",
    "    # Variables cibles et autres caractéristiques\n",
    "    y = data['Etiquette_DPE'].astype(\"category\").cat.codes\n",
    "    X = data.drop(['Etiquette_DPE'], axis=1)\n",
    "\n",
    "    # Encode les variables pour le modèle\n",
    "    for column in X.columns:\n",
    "        X[column] = X[column].astype(\"category\").cat.codes\n",
    "\n",
    "    print( \"valeurs de X :\", X)\n",
    "    print(\" valeur de Y :\", y)\n",
    "    \n",
    "\n",
    "    # Séparation des données\n",
    "    X_train, X_test, y_train, y_test = train_test_split(X, y, test_size=0.2, random_state=42)\n",
    "\n",
    "    # Modèle d'arbre de décision\n",
    "    model = xgb.XGBClassifier(num_class=7, n_estimators=100, learning_rate=0.1, max_depth=6)\n",
    "    model.fit(X_train, y_train)\n",
    "\n",
    "    # Évaluation\n",
    "    y_pred = model.predict(X_test)\n",
    "    train_accuracy = model.score(X_train, y_train)\n",
    "\n",
    "    # Affichage de la précision de l'entraînement\n",
    "    print(\"\\n==== Résultats de l'entraînement ====\")\n",
    "    print(f\"Précision sur les données d'entraînement : {train_accuracy:.2f}%\")\n",
    "\n",
    "    # Affichage de la précision de la validation\n",
    "    print(\"\\n==== Résultats de la validation ====\")\n",
    "    validation_accuracy = accuracy_score(y_test, y_pred)\n",
    "    print(f\"Précision sur les données de test : {validation_accuracy:.2f}%\")\n",
    "\n",
    "    # Affichage du rapport de classification\n",
    "    print(\"\\n==== Rapport de classification ====\")\n",
    "    print(classification_report(y_test, y_pred))\n",
    "\n",
    "    # Affichage des comptages des valeurs réelles et prédites\n",
    "    print(\"\\n==== Comparaison des valeurs réelles et prédites ====\")\n",
    "    print(\"Comptage des valeurs réelles (y_test) :\")\n",
    "    print(y_test.value_counts())\n",
    "    print(\"\\nComptage des valeurs prédites (y_pred) :\")\n",
    "    print(pd.Series(y_pred).value_counts())\n",
    "else:\n",
    "    print(\"La colonne 'Etiquette_DPE' n'est pas dans les données.\")\n"
   ]
  },
  {
   "cell_type": "code",
   "execution_count": 0,
   "metadata": {
    "application/vnd.databricks.v1+cell": {
     "cellMetadata": {
      "byteLimit": 2048000,
      "rowLimit": 10000
     },
     "inputWidgets": {},
     "nuid": "abd947e5-aa98-40f0-b0a1-c8dcee1e1c86",
     "showTitle": false,
     "title": ""
    }
   },
   "outputs": [],
   "source": []
  },
  {
   "cell_type": "code",
   "execution_count": 0,
   "metadata": {
    "application/vnd.databricks.v1+cell": {
     "cellMetadata": {
      "byteLimit": 2048000,
      "rowLimit": 10000
     },
     "inputWidgets": {},
     "nuid": "a29fde7a-dbfc-4c19-aabf-ba08b332d86d",
     "showTitle": false,
     "title": ""
    }
   },
   "outputs": [],
   "source": []
  },
  {
   "cell_type": "markdown",
   "metadata": {
    "application/vnd.databricks.v1+cell": {
     "cellMetadata": {
      "byteLimit": 2048000,
      "rowLimit": 10000
     },
     "inputWidgets": {},
     "nuid": "052ce316-0ad4-4487-aa30-9258d83636b1",
     "showTitle": false,
     "title": ""
    }
   },
   "source": [
    "#  IV. Pred"
   ]
  },
  {
   "cell_type": "code",
   "execution_count": 0,
   "metadata": {
    "application/vnd.databricks.v1+cell": {
     "cellMetadata": {
      "byteLimit": 2048000,
      "rowLimit": 10000
     },
     "inputWidgets": {},
     "nuid": "c2fdfd42-5506-48d7-9d23-61914e665f82",
     "showTitle": false,
     "title": ""
    }
   },
   "outputs": [],
   "source": [
    "val_data = val_data.toPandas()\n",
    "val_data"
   ]
  },
  {
   "cell_type": "code",
   "execution_count": 0,
   "metadata": {
    "application/vnd.databricks.v1+cell": {
     "cellMetadata": {
      "byteLimit": 2048000,
      "rowLimit": 10000
     },
     "inputWidgets": {},
     "nuid": "f329afe0-6423-4394-ab86-047cb285ec4e",
     "showTitle": false,
     "title": ""
    }
   },
   "outputs": [],
   "source": [
    "val_data = val_data.drop(cols_to_drop, axis=1)\n",
    "val_data = val_data.drop(cols_to_drop_cat, axis=1)\n",
    "val_data = val_data.drop([\"Code_INSEE_(BAN)\", \"Code_postal_(BAN)\", \"N°DPE\",\"Conso_5_usages_é_finale\",\"Qualité_isolation_plancher_bas\",\"Code_postal_(brut)\",\n",
    "                          \"Nom__commune_(Brut)\",\"Emission_GES_éclairage\"], axis=1)\n",
    "\n",
    "print(val_data.columns)"
   ]
  },
  {
   "cell_type": "code",
   "execution_count": 0,
   "metadata": {
    "application/vnd.databricks.v1+cell": {
     "cellMetadata": {
      "byteLimit": 2048000,
      "rowLimit": 10000
     },
     "inputWidgets": {},
     "nuid": "3063983f-33d8-4ae7-80c8-ec112897e99c",
     "showTitle": false,
     "title": ""
    }
   },
   "outputs": [],
   "source": [
    "# val_data = val_data.drop(cols_to_drop, axis=1)\n",
    "# val_data = val_data.drop(cols_to_drop_cat, axis=1)\n",
    "# val_data = val_data.drop([\"Code_INSEE_(BAN)\", \"Code_postal_(BAN)\", \"N°DPE\",\"Conso_5_usages_é_finale\",\"Qualité_isolation_plancher_bas\",\"Code_postal_(brut)\",\n",
    "#                           \"Nom__commune_(Brut)\",\"Emission_GES_éclairage\"], axis=1)\n",
    "\n",
    "for column in val_data.columns:\n",
    "        val_data[column] = val_data[column].astype(\"category\").cat.codes\n",
    "\n",
    "prediction_val = model.predict(val_data)"
   ]
  },
  {
   "cell_type": "code",
   "execution_count": 0,
   "metadata": {
    "application/vnd.databricks.v1+cell": {
     "cellMetadata": {
      "byteLimit": 2048000,
      "rowLimit": 10000
     },
     "inputWidgets": {},
     "nuid": "a43cc87f-f393-46b5-8184-eb50264da7ac",
     "showTitle": false,
     "title": ""
    }
   },
   "outputs": [],
   "source": [
    "prediction = pd.DataFrame(prediction_val, columns=['Etiquette_DPE'])\n",
    "prediction['Etiquette_DPE'] = prediction['Etiquette_DPE'].astype('object')\n",
    "\n",
    "# Remaplce les valeurs numériques par des lettres correspondant à l'étiquette DPE\n",
    "mapping = {0: \"A\", 1: \"B\", 2: \"C\", 3: \"D\", 4: \"E\", 5: \"F\", 6: \"G\"}\n",
    "prediction['Etiquette_DPE'] = prediction['Etiquette_DPE'].replace(mapping)\n",
    "\n",
    "# Affichez les fréquences des étiquettes DPE prédites\n",
    "print(\"Fréquences des étiquettes DPE prédites:\")\n",
    "print(prediction['Etiquette_DPE'].value_counts())\n",
    "\n",
    "\n",
    "df_soumission = pd.DataFrame()\n",
    "\n",
    "val_data = spark.read.csv(\"/mnt/data/val.csv\", header=True, inferSchema=True)\n",
    "data_soumission = val_data.toPandas()\n",
    "\n",
    "# verif si \"N°DPE\" est une colonne du CSV\n",
    "if \"N°DPE\" in data_soumission.columns:\n",
    "    df_soumission[\"N°DPE\"] = data_soumission[\"N°DPE\"]\n",
    "    df_soumission[\"Etiquette_DPE\"] = prediction['Etiquette_DPE']\n",
    "else:\n",
    "    print(\"La colonne 'N°DPE' n'est pas présente dans les données de validation.\")\n"
   ]
  },
  {
   "cell_type": "code",
   "execution_count": 0,
   "metadata": {
    "application/vnd.databricks.v1+cell": {
     "cellMetadata": {
      "byteLimit": 2048000,
      "rowLimit": 10000
     },
     "inputWidgets": {},
     "nuid": "1b515f99-0f00-4853-886a-7b8ec8864d83",
     "showTitle": false,
     "title": ""
    }
   },
   "outputs": [],
   "source": [
    "display(df_soumission)"
   ]
  },
  {
   "cell_type": "code",
   "execution_count": 0,
   "metadata": {
    "application/vnd.databricks.v1+cell": {
     "cellMetadata": {
      "byteLimit": 2048000,
      "rowLimit": 10000
     },
     "inputWidgets": {},
     "nuid": "71fd6206-7e85-402b-b591-3f03d56a3262",
     "showTitle": false,
     "title": ""
    }
   },
   "outputs": [],
   "source": [
    "df_soumission.to_csv(\"../Data/Prediction_model_metier_v1.csv\", index=False)"
   ]
  },
  {
   "cell_type": "code",
   "execution_count": 0,
   "metadata": {
    "application/vnd.databricks.v1+cell": {
     "cellMetadata": {
      "byteLimit": 2048000,
      "rowLimit": 10000
     },
     "inputWidgets": {},
     "nuid": "3b6e9b76-5c2a-4d9e-8f4a-a0ba345b0afd",
     "showTitle": false,
     "title": ""
    }
   },
   "outputs": [],
   "source": []
  },
  {
   "cell_type": "code",
   "execution_count": 0,
   "metadata": {
    "application/vnd.databricks.v1+cell": {
     "cellMetadata": {
      "byteLimit": 2048000,
      "rowLimit": 10000
     },
     "inputWidgets": {},
     "nuid": "1dd20f2c-bb50-4eb1-a668-552bf5c0b6ea",
     "showTitle": false,
     "title": ""
    }
   },
   "outputs": [],
   "source": []
  },
  {
   "cell_type": "code",
   "execution_count": 0,
   "metadata": {
    "application/vnd.databricks.v1+cell": {
     "cellMetadata": {
      "byteLimit": 2048000,
      "rowLimit": 10000
     },
     "inputWidgets": {},
     "nuid": "c998819a-98c0-45a3-8665-dd7b15d3c015",
     "showTitle": false,
     "title": ""
    }
   },
   "outputs": [],
   "source": []
  },
  {
   "cell_type": "code",
   "execution_count": 0,
   "metadata": {
    "application/vnd.databricks.v1+cell": {
     "cellMetadata": {
      "byteLimit": 2048000,
      "rowLimit": 10000
     },
     "inputWidgets": {},
     "nuid": "aa7a220a-67ff-4c0e-9ade-17fb66db6e69",
     "showTitle": false,
     "title": ""
    }
   },
   "outputs": [],
   "source": []
  },
  {
   "cell_type": "code",
   "execution_count": 0,
   "metadata": {
    "application/vnd.databricks.v1+cell": {
     "cellMetadata": {
      "byteLimit": 2048000,
      "rowLimit": 10000
     },
     "inputWidgets": {},
     "nuid": "79531b85-7213-4b3e-aef7-26e78e5ca7d8",
     "showTitle": false,
     "title": ""
    }
   },
   "outputs": [],
   "source": []
  },
  {
   "cell_type": "markdown",
   "metadata": {
    "application/vnd.databricks.v1+cell": {
     "cellMetadata": {
      "byteLimit": 2048000,
      "rowLimit": 10000
     },
     "inputWidgets": {},
     "nuid": "b3f33c71-e90b-4770-8828-085d03b43e5d",
     "showTitle": false,
     "title": ""
    }
   },
   "source": [
    "# Interprétation"
   ]
  },
  {
   "cell_type": "code",
   "execution_count": 0,
   "metadata": {
    "application/vnd.databricks.v1+cell": {
     "cellMetadata": {
      "byteLimit": 2048000,
      "rowLimit": 10000
     },
     "inputWidgets": {},
     "nuid": "973e69ac-feb2-4eb8-9759-b9317289f273",
     "showTitle": false,
     "title": ""
    }
   },
   "outputs": [],
   "source": [
    "# Récupérer l'importance des caractéristiques\n",
    "importances = model.feature_importances_\n",
    "\n",
    "# Trier les caractéristiques par importance\n",
    "indices = np.argsort(importances)[::-1]\n",
    "\n",
    "# Afficher le classement des caractéristiques\n",
    "print(\"Feature ranking:\")\n",
    "\n",
    "for f in range(X_train.shape[1]):\n",
    "    print(f\"{f + 1}. feature {X_train.columns[indices[f]]} ({importances[indices[f]]:.4f})\")\n",
    "\n",
    "# Tracer l'importance des caractéristiques dans un graphique à barres horizontales\n",
    "plt.figure(figsize=(10, 10))\n",
    "plt.title(\"Feature importances\")\n",
    "bars = plt.barh(range(X_train.shape[1]), importances[indices], color=\"r\", align=\"center\")\n",
    "\n",
    "# Ajouter des étiquettes pour chaque barre\n",
    "for bar in bars:\n",
    "    plt.text(\n",
    "        bar.get_width(),  # Position x de l'étiquette\n",
    "        bar.get_y() + bar.get_height() / 2,  # Position y de l'étiquette\n",
    "        f'{bar.get_width():.2f}',  # Valeur de l'étiquette\n",
    "        va='center',  # Centrer verticalement\n",
    "        ha='left'  # Aligner horizontalement à gauche\n",
    "    )\n",
    "\n",
    "plt.yticks(range(X_train.shape[1]), X_train.columns[indices])\n",
    "plt.gca().invert_yaxis()  # Inverser l'axe y\n",
    "plt.xlabel('Importance')\n",
    "plt.ylabel('Features')\n",
    "plt.show()"
   ]
  },
  {
   "cell_type": "code",
   "execution_count": 0,
   "metadata": {
    "application/vnd.databricks.v1+cell": {
     "cellMetadata": {
      "byteLimit": 2048000,
      "rowLimit": 10000
     },
     "inputWidgets": {},
     "nuid": "0a0484c8-0088-4dba-abf7-2ae589edfda3",
     "showTitle": false,
     "title": ""
    }
   },
   "outputs": [],
   "source": [
    "for col in X_train.columns:\n",
    "    print(col)"
   ]
  },
  {
   "cell_type": "code",
   "execution_count": 0,
   "metadata": {
    "application/vnd.databricks.v1+cell": {
     "cellMetadata": {
      "byteLimit": 2048000,
      "rowLimit": 10000
     },
     "inputWidgets": {},
     "nuid": "8f14af06-ca93-4807-90d7-27092731e152",
     "showTitle": false,
     "title": ""
    }
   },
   "outputs": [],
   "source": []
  }
 ],
 "metadata": {
  "application/vnd.databricks.v1+notebook": {
   "dashboards": [],
   "language": "python",
   "notebookMetadata": {
    "pythonIndentUnit": 4
   },
   "notebookName": "Modele_metier",
   "widgets": {}
  },
  "kernelspec": {
   "display_name": "Python 3",
   "language": "python",
   "name": "python3"
  },
  "language_info": {
   "codemirror_mode": {
    "name": "ipython",
    "version": 3
   },
   "file_extension": ".py",
   "mimetype": "text/x-python",
   "name": "python",
   "nbconvert_exporter": "python",
   "pygments_lexer": "ipython3",
   "version": "3.12.0"
  }
 },
 "nbformat": 4,
 "nbformat_minor": 0
}
